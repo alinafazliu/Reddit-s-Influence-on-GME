{
 "cells": [
  {
   "cell_type": "code",
   "execution_count": null,
   "id": "alert-sensitivity",
   "metadata": {},
   "outputs": [],
   "source": [
    "import numpy as np \n",
    "import pandas as pd\n",
    "from sklearn.model_selection import train_test_split\n",
    "import dateutil\n",
    "from sklearn.metrics import mean_absolute_error\n",
    "from sklearn.metrics import r2_score\n",
    "from sklearn.metrics import mean_squared_error\n",
    "from xgboost import plot_importance\n",
    "import matplotlib.pyplot as plt\n",
    "pd.options.mode.chained_assignment = None\n",
    "from numpy import asarray"
   ]
  },
  {
   "cell_type": "code",
   "execution_count": null,
   "id": "matched-reporter",
   "metadata": {},
   "outputs": [],
   "source": [
    "gs_ds = pd.read_csv('redditandgmedataset.csv')\n",
    "\n",
    "gs_ds"
   ]
  },
  {
   "cell_type": "code",
   "execution_count": null,
   "id": "handled-luxembourg",
   "metadata": {},
   "outputs": [],
   "source": [
    "del gs_ds['Unnamed: 0']\n",
    "del gs_ds ['timestamp']\n",
    "del gs_ds ['time']\n",
    "del gs_ds['Unnamed: 0.1']"
   ]
  },
  {
   "cell_type": "code",
   "execution_count": null,
   "id": "forbidden-helping",
   "metadata": {},
   "outputs": [],
   "source": [
    "gs_ds.isnull().sum()"
   ]
  },
  {
   "cell_type": "code",
   "execution_count": null,
   "id": "hungarian-tribune",
   "metadata": {},
   "outputs": [],
   "source": [
    "avg = gs_ds.close.mean()\n",
    "std = gs_ds.close.std()\n",
    "gs_ds.loc[gs_ds[\"close\"]>avg+3*std, \"outlier\"] = 1\n",
    "gs_ds[gs_ds['outlier'] == 1]"
   ]
  },
  {
   "cell_type": "code",
   "execution_count": null,
   "id": "mathematical-excitement",
   "metadata": {},
   "outputs": [],
   "source": [
    "# remove outlier\n",
    "gs_ds = gs_ds[gs_ds['outlier'] != 1]"
   ]
  },
  {
   "cell_type": "code",
   "execution_count": null,
   "id": "increased-university",
   "metadata": {},
   "outputs": [],
   "source": [
    "# column mentioned\n",
    "avg = gs_ds.mentioned.mean()\n",
    "std = gs_ds.mentioned.std()\n",
    "gs_ds.loc[gs_ds[\"mentioned\"]>avg+3*std, \"outlier_mentioned\"] = 1\n",
    "gs_ds[gs_ds['outlier_mentioned'] == 1]"
   ]
  },
  {
   "cell_type": "code",
   "execution_count": null,
   "id": "fallen-semester",
   "metadata": {},
   "outputs": [],
   "source": [
    "avg+3*std"
   ]
  },
  {
   "cell_type": "code",
   "execution_count": null,
   "id": "recognized-shame",
   "metadata": {},
   "outputs": [],
   "source": [
    "# winsorize data\n",
    "gs_ds.loc[gs_ds['mentioned']>avg+3*std, 'mentioned'] = 275\n",
    "gs_ds[gs_ds['mentioned']>275]"
   ]
  },
  {
   "cell_type": "code",
   "execution_count": null,
   "id": "musical-portsmouth",
   "metadata": {},
   "outputs": [],
   "source": [
    "# column score\n",
    "avg=gs_ds.score.mean()\n",
    "std=gs_ds.score.std()\n",
    "gs_ds.loc[gs_ds[\"score\"]>avg+3*std, \"outlier_score\"] = 1\n",
    "gs_ds[gs_ds['outlier_score'] == 1]"
   ]
  },
  {
   "cell_type": "code",
   "execution_count": null,
   "id": "least-monitor",
   "metadata": {},
   "outputs": [],
   "source": [
    "avg+3*std"
   ]
  },
  {
   "cell_type": "code",
   "execution_count": null,
   "id": "expressed-mills",
   "metadata": {},
   "outputs": [],
   "source": [
    "# winsorize data\n",
    "gs_ds.loc[gs_ds['score']>avg+3*std, 'score'] = 55464\n",
    "gs_ds[gs_ds['score']>55464]"
   ]
  },
  {
   "cell_type": "code",
   "execution_count": null,
   "id": "positive-martial",
   "metadata": {},
   "outputs": [],
   "source": [
    "# column number of comments\n",
    "avg=gs_ds.comms_num.mean()\n",
    "std=gs_ds.comms_num.std()\n",
    "gs_ds.loc[gs_ds[\"comms_num\"]>avg+3*std, \"outlier_comms_num\"] = 1\n",
    "gs_ds[gs_ds['outlier_comms_num'] == 1]"
   ]
  },
  {
   "cell_type": "code",
   "execution_count": null,
   "id": "preliminary-silly",
   "metadata": {},
   "outputs": [],
   "source": [
    "avg+3*std"
   ]
  },
  {
   "cell_type": "code",
   "execution_count": null,
   "id": "adapted-affairs",
   "metadata": {},
   "outputs": [],
   "source": [
    "# winsorizing data\n",
    "gs_ds.loc[gs_ds['score']>avg+3*std, 'score'] = 43017\n",
    "gs_ds[gs_ds['score']>43017]"
   ]
  },
  {
   "cell_type": "code",
   "execution_count": null,
   "id": "unnecessary-sampling",
   "metadata": {},
   "outputs": [],
   "source": [
    "del gs_ds['outlier_mentioned']\n",
    "del gs_ds['outlier_score']\n",
    "del gs_ds['outlier_comms_num']\n",
    "del gs_ds['outlier']"
   ]
  },
  {
   "cell_type": "code",
   "execution_count": null,
   "id": "moving-central",
   "metadata": {},
   "outputs": [],
   "source": [
    "gs_ds"
   ]
  },
  {
   "cell_type": "code",
   "execution_count": null,
   "id": "precise-planet",
   "metadata": {},
   "outputs": [],
   "source": [
    "# identify the X and Y features\n",
    "features = ['mentioned', 'score', 'comms_num']\n",
    "cols_dataset = gs_ds[features]\n",
    "\n",
    "y=gs_ds.close\n",
    "y = asarray(y)\n",
    "X = cols_dataset\n",
    "\n",
    "X.head()"
   ]
  },
  {
   "cell_type": "code",
   "execution_count": null,
   "id": "armed-moscow",
   "metadata": {},
   "outputs": [],
   "source": [
    "y=y.reshape(-1,1)"
   ]
  },
  {
   "cell_type": "code",
   "execution_count": null,
   "id": "common-fighter",
   "metadata": {},
   "outputs": [],
   "source": [
    "from sklearn.preprocessing import MinMaxScaler\n",
    "# define min max scaler\n",
    "scaler = MinMaxScaler()\n",
    "# transform data\n",
    "X = scaler.fit_transform(X)\n",
    "y=scaler.fit_transform(asarray(y))\n",
    "y = np.ravel(y)"
   ]
  }
 ],
 "metadata": {
  "kernelspec": {
   "display_name": "Python 3",
   "language": "python",
   "name": "python3"
  },
  "language_info": {
   "codemirror_mode": {
    "name": "ipython",
    "version": 3
   },
   "file_extension": ".py",
   "mimetype": "text/x-python",
   "name": "python",
   "nbconvert_exporter": "python",
   "pygments_lexer": "ipython3",
   "version": "3.8.8"
  }
 },
 "nbformat": 4,
 "nbformat_minor": 5
}
